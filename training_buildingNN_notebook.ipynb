{
 "cells": [
  {
   "cell_type": "code",
   "execution_count": null,
   "metadata": {
    "autoscroll": false,
    "ein.hycell": false,
    "ein.tags": "worksheet-0",
    "slideshow": {
     "slide_type": "-"
    }
   },
   "outputs": [],
   "source": [
    "########################################\n",
    "# Keras\n",
    "########################################\n",
    "from keras.models import load_model                                                                     # load up models from file\n",
    "from keras import Model, Input                                                                          # major classes\n",
    "from keras.layers import Dense, Flatten, Dropout, LeakyReLU, BatchNormalization, Softmax, Embedding     # layers\n",
    "from keras.losses import categorical_crossentropy, mean_squared_error                                   # cost functions\n",
    "from keras.optimizers import Adam                                                                       # optimizer\n",
    "from keras.regularizers import l1, l2                                                                   # regularizers\n",
    "from keras.initializers import glorot_normal                                                            # for normalization\n",
    "\n",
    "########################################\n",
    "# Preparing data\n",
    "########################################\n",
    "from sklearn.model_selection import train_test_split # split into training and testing data\n",
    "\n",
    "# common packages\n",
    "from multiprocessing import Pool\n",
    "import pandas as pd\n",
    "import matplotlib.pyplot as plt\n",
    "import random\n",
    "import numpy as np\n",
    "import pickle"
   ]
  },
  {
   "cell_type": "markdown",
   "metadata": {
    "ein.tags": "worksheet-0",
    "slideshow": {
     "slide_type": "-"
    }
   },
   "source": [
    "# 1 - Preparing the training data\n",
    "\n",
    "Neural networks are very simple objects - they take an **1D-array** of inputs, perform a series of matrix multiplication and transformations, and output **1D-array**:\n",
    "\n",
    "<img src=\"images_inkscape/basic_in_out.png\" style=\"width: 200px;\">\n",
    "\n",
    "During training, you need to supply a lot of such 1D-arrays (> 10,000). The way `tensorflow` works, means that they must be passed in as an array of `N` stacked vectors:\n",
    "\n",
    "<img src=\"images_inkscape/stacked_in_out.png\" style=\"width: 400px;\">\n",
    "\n",
    "## An imporant part is thus preparing such a dataset for integration. \n",
    "- <font color=red><b>Each new training element must occupy a single row (input and corresponding output)</b></font>\n",
    "- <font color=red><b>There must be <code>N</code> such rows for the N training elements</b></font>\n",
    "***\n",
    "\n",
    "## Split the input data into <a name=\"splitting\"></a>98% training and 2% testing\n",
    "<center><font color=red><b>⚠ Do not touch the 2% testing data during training. The whole idea, is for the trained network to classify the testing data that it has never seen.</b></font></center>\n",
    "\n",
    "<img src=\"images_inkscape/breaking_training_up.png\" style=\"width: 400px;\">\n",
    "\n",
    "***\n",
    "*For the time being, do not worry about how this language dataset was encoded - this will be covered in <a href=\"./material_encodingData_notebook.ipynb\" ><b>Input encoding Tutorial<b></a>*"
   ]
  },
  {
   "cell_type": "code",
   "execution_count": 3,
   "metadata": {
    "autoscroll": false,
    "ein.hycell": false,
    "ein.tags": "worksheet-0",
    "slideshow": {
     "slide_type": "-"
    }
   },
   "outputs": [
    {
     "name": "stdout",
     "output_type": "stream",
     "text": [
      "🔴 Shape of the input:\t (110283, 15, 26)\n",
      "🔵 Shape of output:\t (110283, 10)\n"
     ]
    }
   ],
   "source": [
    "########################################\n",
    "# 1 - load in the input data\n",
    "########################################\n",
    "with open(\"language_data.pkl\", 'rb') as fin:\n",
    "    data = pickle.load(fin)\n",
    "X_raw = data['X-input']\n",
    "Y_raw = data['Y-output']\n",
    "\n",
    "########################################\n",
    "# 2 - check the format of the data:\n",
    "#       110283 elements\n",
    "#       🔴 each input element is a 2D array 15(characters)x26(each one a-z)  which will eventually have to be flattened\n",
    "#       🔵 each output element is a 1D array of length 10 (10 different languages)\n",
    "########################################\n",
    "print(\"🔴 Shape of the input:\\t\", X_raw.shape)\n",
    "print(\"🔵 Shape of output:\\t\", Y_raw.shape)"
   ]
  },
  {
   "cell_type": "code",
   "execution_count": 4,
   "metadata": {
    "autoscroll": false,
    "ein.hycell": false,
    "ein.tags": "worksheet-0",
    "slideshow": {
     "slide_type": "-"
    }
   },
   "outputs": [],
   "source": [
    "########################################\n",
    "# 3 - split into training and testing\n",
    "#   - random state shuffles the inputs\n",
    "########################################\n",
    "(X_train, X_test,\n",
    " Y_train, Y_test) = train_test_split(X_raw,\n",
    "                                     Y_raw,\n",
    "                                     test_size = 0.02, random_state=42, shuffle=True)"
   ]
  },
  {
   "cell_type": "markdown",
   "metadata": {
    "ein.tags": "worksheet-0",
    "slideshow": {
     "slide_type": "-"
    }
   },
   "source": [
    "# 🔐 Saving data\n",
    "It is good at this point to save the data, or you might end up training the model on `X_train`  and `Y_train`, and close the program.\n",
    "\n",
    "Voila - when you reload the file and rerun the train-test split,  there is no gurantee that the new `X_test` and `Y_test` will be the same ones as before (unless you do `shuffle=False`, but that is limiting since you might get a bias due to the order of the elements).\n",
    "\n",
    "<center>Therefore it is important to save the exact training and testing sets. Dictionaries and `pickle` are great for that.</center>"
   ]
  },
  {
   "cell_type": "code",
   "execution_count": null,
   "metadata": {
    "autoscroll": false,
    "ein.hycell": false,
    "ein.tags": "worksheet-0",
    "slideshow": {
     "slide_type": "-"
    }
   },
   "outputs": [],
   "source": [
    "########################################\n",
    "# 4 - save data for future use\n",
    "########################################\n",
    "dictionary_to_write = {\"X-train\": X_train,\n",
    "                       \"X-test\": X_test,\n",
    "                       \"Y-train\": Y_train,\n",
    "                       \"Y-test\": Y_test}\n",
    "with open(\"language_data_prepared.pkl\", 'wb') as fout:\n",
    "    pickle.dump(dictionary_to_write)"
   ]
  },
  {
   "cell_type": "markdown",
   "metadata": {
    "ein.tags": "worksheet-0",
    "slideshow": {
     "slide_type": "-"
    }
   },
   "source": [
    "# 2 - Building simple model\n",
    "The simple model:\n",
    "- flattens each 2D input element;\n",
    "- passes it through a hidden layer of 5 * number_of_input_nodes and applies `sigmoid` <a href=\"#activation\">activation</a> to each one;\n",
    "- generates an output array of dim (10), which is tries to match to the label array of dim (10).\n",
    "<img src=\"images_inkscape/simple_model.png\" style=\"width: 800px;\">\n",
    "*Note, that not all of the nodes are shown*\n",
    "***\n",
    "An <a name=\"activation\" ><code>Activation</code></a> applies a linear map to <font color=red>every single node</font> in the intermediate layer (in the case, all of the 5 * number_of_input_nodes).\n",
    "\n",
    "<img src=\"images_inkscape/usual_activation.png\" style=\"width: 500px;\">"
   ]
  },
  {
   "cell_type": "code",
   "execution_count": 22,
   "metadata": {
    "autoscroll": false,
    "ein.hycell": false,
    "ein.tags": "worksheet-0",
    "slideshow": {
     "slide_type": "-"
    }
   },
   "outputs": [
    {
     "name": "stdout",
     "output_type": "stream",
     "text": [
      "Model: \"model_12\"\n",
      "_________________________________________________________________\n",
      "Layer (type)                 Output Shape              Param #   \n",
      "=================================================================\n",
      "input_13 (InputLayer)        (None, 15, 26)            0         \n",
      "_________________________________________________________________\n",
      "reshape_13 (Reshape)         (None, 390)               0         \n",
      "_________________________________________________________________\n",
      "dense_24 (Dense)             (None, 1950)              762450    \n",
      "_________________________________________________________________\n",
      "dense_25 (Dense)             (None, 10)                19510     \n",
      "=================================================================\n",
      "Total params: 781,960\n",
      "Trainable params: 781,960\n",
      "Non-trainable params: 0\n",
      "_________________________________________________________________\n",
      "None\n"
     ]
    }
   ],
   "source": [
    "########################################\n",
    "# 1 - specify the shape of the inputs\n",
    "#   - if each element was a 1D array then the call would be Input((X_train.shape[1], ))\n",
    "########################################\n",
    "INPUTS = Input((X_train.shape[1], X_train.shape[2]))\n",
    "\n",
    "########################################\n",
    "# 2 🥞 flatten each element from (15, 26) → (15*26)\n",
    "#    - this is only required if the elements are not 1D\n",
    "########################################\n",
    "number_of_input_nodes = (X_train.shape[1] * X_train.shape[2])\n",
    "FLATTENED = Reshape((number_of_input_nodes,))(INPUTS)\n",
    "\n",
    "# 3 - hidden layer with 5 times the input nodes and sigmoid activation. \n",
    "PROPAGATING_LAYER = Dense(5 * number_of_input_nodes, activation='sigmoid')(FLATTENED)\n",
    "\n",
    "# 4 - ouput layer is also DENSE. must contain the number of nodes that the ouput has\n",
    "OUTPUT_LAYER = Dense(Y_train.shape[1])(PROPAGATING_LAYER)\n",
    "\n",
    "########################################\n",
    "# 5 - compile the model with the simplest optimizer used in back propagation\n",
    "########################################\n",
    "model = Model(inputs=INPUTS, outputs=OUTPUT_LAYER)\n",
    "model.compile(loss=mean_squared_error, optimizer='sgd')\n",
    "print(model.summary())"
   ]
  },
  {
   "cell_type": "markdown",
   "metadata": {
    "ein.tags": "worksheet-0",
    "slideshow": {
     "slide_type": "-"
    }
   },
   "source": [
    "# 3 - training the model\n",
    "Once the model is built, the actual training dataset is passed to it.\n",
    "- `epochs`: Specify number of times retrain on the whole dataset (each time weights will coverge to closer and closer to optimal point)\n",
    "- `batch_size`: number of samples with which to perform full forward-backward sweep. Refer to <a href=\"./optimization_report.pdf#10\" ><b>Section 5<b></a>\n",
    "\n",
    "too small a batch, and decent to the optimal point becomes choppy (stochastic descent). Too large, the network training is not reactive enough, with infrequent weight updates.\n",
    "<img src=\"images_inkscape/batch_size_for_gradient_descent.png\" style=\"width: 300px;\">\n",
    "\n",
    "\n",
    "- `validation_split`: proportion of samples taken out each sweep to probe the current performance of the network on unseed data - `val_loss`\n",
    "\n",
    "<center><i>It is a good question to ask - \"why even bother with separating out some testing data <a href=\"#splitting\">here</a>, if it is done for us during fitting?\"</i></center>\n",
    "<center><b>Well, you don't control which datapoints are isolated, and only explicitly extracting a portion beforehand can ensure that they are in no way involved in the traning process.</b></center>\n",
    "\n",
    "<font color=red><b>The model below will not train well - it will be optimized later on in the notebook</b></font>"
   ]
  },
  {
   "cell_type": "code",
   "execution_count": 29,
   "metadata": {
    "autoscroll": false,
    "ein.hycell": false,
    "ein.tags": "worksheet-0",
    "slideshow": {
     "slide_type": "-"
    }
   },
   "outputs": [
    {
     "name": "stdout",
     "output_type": "stream",
     "text": [
      "Train on 106996 samples, validate on 1081 samples\n",
      "Epoch 1/10\n",
      "106996/106996 [==============================] - 2s 22us/step - loss: 15.5319 - val_loss: 15.4322\n",
      "Epoch 2/10\n",
      "106996/106996 [==============================] - 2s 21us/step - loss: 15.5319 - val_loss: 15.4322\n",
      "Epoch 3/10\n",
      "106996/106996 [==============================] - 2s 21us/step - loss: 15.5319 - val_loss: 15.4322\n",
      "Epoch 4/10\n",
      "106996/106996 [==============================] - 2s 21us/step - loss: 15.5319 - val_loss: 15.4322\n",
      "Epoch 5/10\n",
      "106996/106996 [==============================] - 2s 21us/step - loss: 15.5319 - val_loss: 15.4322\n",
      "Epoch 6/10\n",
      "106996/106996 [==============================] - 2s 21us/step - loss: 15.5319 - val_loss: 15.4322\n",
      "Epoch 7/10\n",
      "106996/106996 [==============================] - 2s 21us/step - loss: 15.5319 - val_loss: 15.4322\n",
      "Epoch 8/10\n",
      "106996/106996 [==============================] - 2s 21us/step - loss: 15.5319 - val_loss: 15.4322\n",
      "Epoch 9/10\n",
      "106996/106996 [==============================] - 2s 21us/step - loss: 15.5319 - val_loss: 15.4322\n",
      "Epoch 10/10\n",
      "106996/106996 [==============================] - 3s 24us/step - loss: 15.5319 - val_loss: 15.4322\n"
     ]
    },
    {
     "data": {
      "image/png": "[encoded data removed]",
      "text/plain": [
       "<Figure size 432x288 with 1 Axes>"
      ]
     },
     "metadata": {},
     "output_type": "display_data"
    }
   ],
   "source": [
    "########################################\n",
    "# 6 - train model on the dataset.\n",
    "########################################\n",
    "epochs = 10\n",
    "history_log = model.fit(X_train, Y_train,\n",
    "                        verbose=1, epochs=epochs,\n",
    "                        batch_size=1024, validation_split=0.01)\n",
    "\n",
    "# 7 - print result\n",
    "fig, ax = plt.subplots(nrows=1, ncols=1)\n",
    "ax.plot(history_log.history[\"loss\"], color='grey', linewidth=1, alpha=0.4)\n",
    "ax.plot(history_log.history[\"val_loss\"], color=\"orange\", linewidth=3)\n",
    "ax.set_title(\"Training history_log\")\n",
    "ax.set_xlabel(\"Epoch\")\n",
    "ax.set_ylabel(\"Loss\")\n",
    "ax.legend([\"Train\", \"Valdiation\"])\n",
    "\n",
    "plt.show()"
   ]
  },
  {
   "cell_type": "markdown",
   "metadata": {
    "ein.tags": "worksheet-0",
    "slideshow": {
     "slide_type": "-"
    }
   },
   "source": [
    "# 4 - Accuracy imporovements 🏹\n",
    "The first network gave very poor performance, as shown by the high `loss` and `val_loss`. **Ideally both should be << 1**. \n",
    "\n",
    "\n",
    "The following set of improvements will generally improve performance.\n",
    "\n",
    "## a - Add a second layer\n",
    "<center><font color=red>Actually, by uncommenting the second layer, you will find that it doesn't bring in a good improvement. Welp, it is a guessing game.</font></center>\n",
    "\n",
    "***\n",
    "\n",
    "## b - Add `Batch Normalization` \n",
    "- (<a href=\"./optimization_report.pdf\" ><b>Section 4<b></a>);\n",
    "- To normalize intermediate nodes in the network. In this way weights from earlier layers will not have strong repercussion in later ones, preventing exploding or vanishing values within the network.\n",
    "<center><font color=red><b>⚠ Beware, that <code>Batch Normalization</code> must happen before activation</b></font></center>\n",
    "\n",
    "***\n",
    "\n",
    "## c - Stand-alone activation layer\n",
    "- `ReLu Activation` is now added as a stand-alone layer after each `Batch normalization`;\n",
    "- It tends to perform better than `sigmoid` activation;\n",
    "- Feel free to experiment with <font color=red><a href=\"https://keras.io/layers/advanced-activations/\">more activations</a></font>.\n",
    "\n",
    "***\n",
    "\n",
    "## d - Add `Adam` optimizer for backpropagation\n",
    "- <a href=\"#adam\">It will be looked further in this section</a>\n",
    "\n",
    "<img src=\"images_inkscape/simple_model_v2.png\" style=\"width: 1000px;\">"
   ]
  },
  {
   "cell_type": "code",
   "execution_count": 7,
   "metadata": {
    "autoscroll": false,
    "ein.hycell": false,
    "ein.tags": "worksheet-0",
    "slideshow": {
     "slide_type": "-"
    }
   },
   "outputs": [
    {
     "name": "stdout",
     "output_type": "stream",
     "text": [
      "WARNING:tensorflow:From /Users/CCCP/creamy_seas/sync_files/python_vi/pro_vi/lib/python3.7/site-packages/keras/optimizers.py:793: The name tf.train.Optimizer is deprecated. Please use tf.compat.v1.train.Optimizer instead.\n",
      "\n",
      "Model: \"model_1\"\n",
      "_________________________________________________________________\n",
      "Layer (type)                 Output Shape              Param #   \n",
      "=================================================================\n",
      "input_3 (InputLayer)         (None, 15, 26)            0         \n",
      "_________________________________________________________________\n",
      "flatten_inputs (Flatten)     (None, 390)               0         \n",
      "_________________________________________________________________\n",
      "2_dense (Dense)              (None, 1950)              762450    \n",
      "_________________________________________________________________\n",
      "2_batch (BatchNormalization) (None, 1950)              7800      \n",
      "_________________________________________________________________\n",
      "2_activation (LeakyReLU)     (None, 1950)              0         \n",
      "_________________________________________________________________\n",
      "dense_3 (Dense)              (None, 10)                19510     \n",
      "=================================================================\n",
      "Total params: 789,760\n",
      "Trainable params: 785,860\n",
      "Non-trainable params: 3,900\n",
      "_________________________________________________________________\n",
      "None\n",
      "Train on 106996 samples, validate on 1081 samples\n",
      "Epoch 1/4\n",
      "106996/106996 [==============================] - 6s 53us/step - loss: 0.1640 - val_loss: 0.1013\n",
      "Epoch 2/4\n",
      "106996/106996 [==============================] - 5s 51us/step - loss: 0.0752 - val_loss: 0.0796\n",
      "Epoch 3/4\n",
      "106996/106996 [==============================] - 6s 52us/step - loss: 0.0601 - val_loss: 0.0717\n",
      "Epoch 4/4\n",
      "106996/106996 [==============================] - 6s 54us/step - loss: 0.0529 - val_loss: 0.0670\n"
     ]
    },
    {
     "data": {
      "image/png": "[encoded data removed]",
      "text/plain": [
       "<Figure size 432x288 with 1 Axes>"
      ]
     },
     "metadata": {},
     "output_type": "display_data"
    }
   ],
   "source": [
    "epochs = 4\n",
    "number_of_input_nodes = (X_train.shape[1] * X_train.shape[2])\n",
    "\n",
    "INPUTS = Input((X_train.shape[1], X_train.shape[2]))\n",
    "FLATTENED = Flatten(name=\"flatten_inputs\")(INPUTS)\n",
    "PROPAGATING_LAYER = BatchNormalization(name=\"batchNorm_inputs\")(FLATTENED)\n",
    "# layer 1\n",
    "PROPAGATING_LAYER = Dense(5 * number_of_input_nodes, name=\"1_dense\",)(FLATTENED)\n",
    "PROPAGATING_LAYER = BatchNormalization(name=\"1_batch\")(PROPAGATING_LAYER)\n",
    "PROPAGATING_LAYER = LeakyReLU(0.1, name='1_activation')(PROPAGATING_LAYER)\n",
    "# layer 2\n",
    "PROPAGATING_LAYER = Dense(5 * number_of_input_nodes, name=\"2_dense\",)(PROPAGATING_LAYER)\n",
    "PROPAGATING_LAYER = BatchNormalization(name=\"2_batch\")(PROPAGATING_LAYER)\n",
    "PROPAGATING_LAYER = LeakyReLU(0.1, name='2_activation')(PROPAGATING_LAYER)\n",
    "OUTPUT_LAYER = Dense(Y_train.shape[1])(PROPAGATING_LAYER)\n",
    "\n",
    "########################################\n",
    "# 5 - compile the model \n",
    "########################################\n",
    "model = Model(inputs=INPUTS, outputs=OUTPUT_LAYER)\n",
    "model.compile(loss=mean_squared_error, optimizer='adam')\n",
    "print(model.summary())\n",
    "\n",
    "########################################\n",
    "# 6 - train model on the dataset.\n",
    "########################################\n",
    "history_log = model.fit(X_train, Y_train,\n",
    "                        verbose=1, epochs=epochs,\n",
    "                        batch_size=1024, validation_split=0.01)\n",
    "\n",
    "# 7 - print result\n",
    "fig, ax = plt.subplots(nrows=1, ncols=1)\n",
    "ax.plot(history_log.history[\"loss\"], color='grey', linewidth=1, alpha=0.4)\n",
    "ax.plot(history_log.history[\"val_loss\"], color=\"orange\", linewidth=3)\n",
    "ax.set_title(\"Training history_log\")\n",
    "ax.set_xlabel(\"Epoch\")\n",
    "ax.set_ylabel(\"Loss\")\n",
    "ax.legend([\"Train\", \"Valdiation\"])\n",
    "\n",
    "plt.show()"
   ]
  },
  {
   "cell_type": "markdown",
   "metadata": {
    "ein.tags": "worksheet-0",
    "slideshow": {
     "slide_type": "-"
    }
   },
   "source": [
    "# 5 - saving and testing the model\n",
    "- Once a model is trained, it tested on the **test** part of the dataset, which so far has not been touched by any training.\n",
    "\n",
    "- Prior to this make sure to save the network with all of the metadata, using good old dictionaries 📕."
   ]
  },
  {
   "cell_type": "code",
   "execution_count": 42,
   "metadata": {
    "autoscroll": false,
    "ein.hycell": false,
    "ein.tags": "worksheet-0",
    "slideshow": {
     "slide_type": "-"
    }
   },
   "outputs": [],
   "source": [
    "def save_nn(model, metadata, data, save_name, save_folder=\"trained_nn\"):\n",
    "    \"\"\"\n",
    "    __ Parameters __\n",
    "    [ks.model] model:           to save\n",
    "    [dictionary] metadata:      dictionary with the metadata on the nn\n",
    "    [dictionary] data:          train and test data\n",
    "    [str] save_name:            name to save nn under\n",
    "    [str] save_folder:          folder where to save nn\n",
    "\n",
    "    __ Description __\n",
    "    Save the model and its metadata for future use\n",
    "    \"\"\"\n",
    "    # 1 - create folder to store the nn\n",
    "    if not os.path.exists(f\"./{save_folder}\"):\n",
    "        os.makedirs(save_folder)\n",
    "    # 2 - save the model\n",
    "    model.save(f\"{save_folder}/{save_name}.nn\")\n",
    "    # 3 - save metadata of the model\n",
    "    with open(f\"{save_folder}/{save_name}_metadata.pkl\", 'wb') as fout:\n",
    "        pickle.dump(metadata, fout)\n",
    "    # 4 - save training and testing data\n",
    "    with open(f\"{save_folder}/{save_name}_data.pkl\", 'wb') as fout:\n",
    "        pickle.dump(data, fout)\n",
    "        \n",
    "        \n",
    "def load_nn(save_name, save_folder=\"trained_nn\"):\n",
    "    \"\"\"\n",
    "    __ Parameters __\n",
    "    [str] save_name:            name the nn was saved under\n",
    "    [str] save_folder:          folder nn is in\n",
    "\n",
    "    __ Description __\n",
    "    Load the model and metadata\n",
    "\n",
    "    __ Returns __\n",
    "    [model] with the initialized weights from the file\n",
    "    [dictionary] metadata on the model\n",
    "    \"\"\"\n",
    "\n",
    "    # 1 - load the model\n",
    "    model = load_model(f\"./{save_folder}/{save_name}.nn\")\n",
    "    # 2 - load the metadata\n",
    "    with open(f'{save_folder}/{save_name}_metadata.pkl', 'rb') as fin:\n",
    "        metadata = pickle.load(fin)\n",
    "    # 3 - load training and testing data\n",
    "    with open(f'{save_folder}/{save_name}_data.pkl', 'rb') as fin:\n",
    "        data = pickle.load(fin)\n",
    "        \n",
    "    return model, metadata, data\n",
    "\n",
    "\n",
    "########################################\n",
    "# 1 - generate a list of metadata for the model\n",
    "########################################\n",
    "metadata = {\"X-train_dim\": X_train.shape,\n",
    "            \"Y-train_dim\": Y_train.shape,\n",
    "            # anything else which would be required to recreate the model\n",
    "}\n",
    "train_test_data = {\"X-train\": X_train,\n",
    "                       \"X-test\": X_test,\n",
    "                       \"Y-train\": Y_train,\n",
    "                       \"Y-test\": Y_test}\n",
    "########################################\n",
    "# 2 - save\n",
    "########################################\n",
    "save_nn(model, metadata, train_test_data, \"language_v1\")"
   ]
  },
  {
   "cell_type": "code",
   "execution_count": 50,
   "metadata": {
    "autoscroll": false,
    "ein.hycell": false,
    "ein.tags": "worksheet-0",
    "slideshow": {
     "slide_type": "-"
    }
   },
   "outputs": [
    {
     "name": "stdout",
     "output_type": "stream",
     "text": [
      "⦿  37.40% error - 825/2206 samples\n"
     ]
    }
   ],
   "source": [
    "########################################\n",
    "# 3 ⏰  imagine some time has passed, or testing is perfromed on a different computer\n",
    "########################################\n",
    "model, metadata, data = load_nn(\"language_v1\")\n",
    "\n",
    "X_test = data['X-test']\n",
    "Y_test = data['Y-test']\n",
    "\n",
    "# 1 - run prediction\n",
    "prediction = model.predict(X_test)\n",
    "\n",
    "########################################\n",
    "# 2 -  find how many of the predictions were correct\n",
    "########################################\n",
    "prediction_mostLikely = np.argmax(prediction, axis=1)\n",
    "error_array = np.argmax(Y_test, axis=1) - prediction_mostLikely\n",
    "error_indicies = np.nonzero(error_array)[0]\n",
    "\n",
    "print(f\"⦿  {len(error_indicies) / len(X_test) * 100:.2f}% error - {len(error_indicies)}/{len(X_test)} samples\")"
   ]
  },
  {
   "cell_type": "markdown",
   "metadata": {
    "ein.tags": "worksheet-0",
    "slideshow": {
     "slide_type": "-"
    }
   },
   "source": [
    "# 6 - Combating overtraining ⚔\n",
    "To prevent overtraining of the network, `regularization` and `dropout` can be applied (<a href=\"./optimization_report.pdf\">Section 2</a>).\n",
    "***\n",
    "## a - Regularizers\n",
    "- During backpropagation all weights undergo an additional supression - <font color=red>With moderated weights, the model will not be able to overfit to the training set</font>;\n",
    "- `regularizers` need to be called as parameters in the layers tha have tuneable weights e.g. `Dense(69, kernel_regularizer=ks.regularizers.l1(lambd))`;\n",
    "- `L2 regularization` is more aggressive than `L1 regularization`;\n",
    "- `lambda` controls the strength of regularization;\n",
    "- keeping weights small, effectively blocks flow of information (multiplication by a very small number), which limits the size of the network.\n",
    "<img src=\"images_inkscape/overfitting_set_to_0_png.png\" style=\"width: 200px;\">\n",
    "\n",
    "***\n",
    "\n",
    "## b - Dropout\n",
    "- Every epoch, certain neurons are randomly shut down from this layer:\n",
    " <center><font color=red>Each iteration of the NN trains a different model that uses only a subset of the neurons. The model needs to diversify over all the available neurons, and less likely to have preference on a persistent subset.</font></center>\n",
    "- It is a placed <font color=red><b>before</b></font> a layer to prevent it from receiving a portion of the inputs;\n",
    "- `Dropout(dropout_rate)(PROPAGATING_LAYER)`\n",
    "- `rate` sets the proportion of neurons that are shut down each epoch.\n",
    "<img src=\"images_inkscape/dropout.png\" style=\"width: 400px;\">\n",
    "\n",
    "***\n",
    "\n",
    "## c - Other ways\n",
    "- Take inputs and distort them: rotate, flip, offset; \n",
    "- Stopp before overfitting begins to occur by closely monitoring the `loss` and `val_loss` values."
   ]
  },
  {
   "cell_type": "markdown",
   "metadata": {
    "ein.tags": "worksheet-0",
    "slideshow": {
     "slide_type": "-"
    }
   },
   "source": [
    "# 7 - Improving efficiency of training\n",
    "1. Initialize the weights of the hidden layers according to some distribution: `normal`, `glorot_normal` (<a href=\"./optimization_report.pdf\" ><b>Section 3<b></a>);\n",
    "<center><font color=red>If using <code>glorot_normal</code> initialization, activate using <code>Leaky ReLu</code></font></center>\n",
    "\n",
    "***\n",
    "\n",
    "2. Specify the parameters of the optimizer that is being used: <a name=\"adam\"></a>\n",
    "<img src=\"images_inkscape/gradient_descent_average.png\" style=\"width: 250px;\">\n",
    "\n",
    "The optimizer the algorithm by which weights are updated during back propagation. It has a very neat mathematical background, which is covered in  <a href=\"./optimization_report.pdf\" ><b>Section 6<b></a>. Choosing a good optimizer can result in a smotther descent to the local minimum of the cost function. \n",
    "\n",
    "- `ɑ`: controls speed of descent;\n",
    "- `β1 ~ 0.9` controls averaging over the past history of the gradient. The gradient is used to update the weight, and taking an average supresses sideways oscillations;\n",
    "- `β2 ~ 0.99` controls averaging over the past history of the gradient's variance'. The variance is similarly used to supresses sideways oscillations.\n",
    "\n",
    "\n",
    "<a href=\"https://keras.io/optimizers/\">Other optimizers can also be considered</a>"
   ]
  },
  {
   "cell_type": "code",
   "execution_count": 11,
   "metadata": {
    "autoscroll": false,
    "ein.hycell": false,
    "ein.tags": "worksheet-0",
    "slideshow": {
     "slide_type": "-"
    }
   },
   "outputs": [
    {
     "name": "stdout",
     "output_type": "stream",
     "text": [
      "Model: \"model_4\"\n",
      "_________________________________________________________________\n",
      "Layer (type)                 Output Shape              Param #   \n",
      "=================================================================\n",
      "input_7 (InputLayer)         (None, 15, 26)            0         \n",
      "_________________________________________________________________\n",
      "flatten_inputs (Flatten)     (None, 390)               0         \n",
      "_________________________________________________________________\n",
      "batchNorm_inputs (BatchNorma (None, 390)               1560      \n",
      "_________________________________________________________________\n",
      "1_dense (Dense)              (None, 1950)              762450    \n",
      "_________________________________________________________________\n",
      "1_dropout (Dropout)          (None, 1950)              0         \n",
      "_________________________________________________________________\n",
      "1_batch (BatchNormalization) (None, 1950)              7800      \n",
      "_________________________________________________________________\n",
      "1_activation (LeakyReLU)     (None, 1950)              0         \n",
      "_________________________________________________________________\n",
      "2_dense (Dense)              (None, 1950)              3804450   \n",
      "_________________________________________________________________\n",
      "2_batch (BatchNormalization) (None, 1950)              7800      \n",
      "_________________________________________________________________\n",
      "2_activation (LeakyReLU)     (None, 1950)              0         \n",
      "_________________________________________________________________\n",
      "dense_7 (Dense)              (None, 10)                19510     \n",
      "=================================================================\n",
      "Total params: 4,603,570\n",
      "Trainable params: 4,594,990\n",
      "Non-trainable params: 8,580\n",
      "_________________________________________________________________\n",
      "None\n"
     ]
    }
   ],
   "source": [
    "epochs = 4\n",
    "lambd = 0.03\n",
    "dropout_rate = 0.3\n",
    "\n",
    "number_of_input_nodes = (X_train.shape[1] * X_train.shape[2])\n",
    "INPUTS = Input((X_train.shape[1], X_train.shape[2]))\n",
    "FLATTENED = Flatten(name=\"flatten_inputs\")(INPUTS)\n",
    "PROPAGATING_LAYER = BatchNormalization(name=\"batchNorm_inputs\")(FLATTENED)\n",
    "PROPAGATING_LAYER = Dense(5 * number_of_input_nodes, name=\"1_dense\",\n",
    "                          kernel_initializer=glorot_normal(seed=random.randint(1, 10000)),\n",
    "                          kernel_regularizer=l2(lambd))(PROPAGATING_LAYER)\n",
    "PROPAGATING_LAYER = Dropout(dropout_rate, name=\"1_dropout\")(PROPAGATING_LAYER)\n",
    "PROPAGATING_LAYER = BatchNormalization(name=\"1_batch\")(PROPAGATING_LAYER)\n",
    "PROPAGATING_LAYER = LeakyReLU(0.1, name='1_activation')(PROPAGATING_LAYER)\n",
    "PROPAGATING_LAYER = Dense(5 * number_of_input_nodes, name=\"2_dense\",\n",
    "                          kernel_initializer=glorot_normal(seed=random.randint(1, 10000)),\n",
    "                          kernel_regularizer=l2(lambd))(PROPAGATING_LAYER)\n",
    "PROPAGATING_LAYER = BatchNormalization(name=\"2_batch\")(PROPAGATING_LAYER)\n",
    "PROPAGATING_LAYER = LeakyReLU(0.1, name='2_activation')(PROPAGATING_LAYER)\n",
    "OUTPUT_LAYER = Dense(Y_train.shape[1])(PROPAGATING_LAYER)\n",
    "\n",
    "########################################\n",
    "# 5 - compile the model \n",
    "########################################\n",
    "learning_rate = 0.0001\n",
    "beta_1 = 0.85\n",
    "beta_2 = 0.99\n",
    "adam_tuned = Adam(lr=learning_rate, beta_1=beta_1, beta_2=beta_2)           # 🐋🐋🐋 custom now\n",
    "model = Model(inputs=INPUTS, outputs=OUTPUT_LAYER)\n",
    "model.compile(loss=mean_squared_error, optimizer=adam_tuned)\n",
    "print(model.summary())"
   ]
  },
  {
   "cell_type": "code",
   "execution_count": 12,
   "metadata": {
    "autoscroll": false,
    "ein.hycell": false,
    "ein.tags": "worksheet-0",
    "slideshow": {
     "slide_type": "-"
    }
   },
   "outputs": [
    {
     "name": "stdout",
     "output_type": "stream",
     "text": [
      "Train on 106996 samples, validate on 1081 samples\n",
      "Epoch 1/4\n",
      "106996/106996 [==============================] - 23s 212us/step - loss: 57.8263 - val_loss: 39.8899\n",
      "Epoch 2/4\n",
      "106996/106996 [==============================] - 22s 206us/step - loss: 28.6873 - val_loss: 19.1741\n",
      "Epoch 3/4\n",
      "106996/106996 [==============================] - 22s 207us/step - loss: 13.4139 - val_loss: 8.5812\n",
      "Epoch 4/4\n",
      "106996/106996 [==============================] - 23s 211us/step - loss: 5.7685 - val_loss: 3.4616\n"
     ]
    },
    {
     "data": {
      "image/png": "[encoded data removed]",
      "text/plain": [
       "<Figure size 432x288 with 1 Axes>"
      ]
     },
     "metadata": {},
     "output_type": "display_data"
    }
   ],
   "source": [
    "########################################\n",
    "# 6 - train model on the dataset.\n",
    "########################################\n",
    "history_log = model.fit(X_train, Y_train,\n",
    "                        verbose=1, epochs=epochs,\n",
    "                        batch_size=1024, validation_split=0.01)\n",
    "\n",
    "# 7 - print result\n",
    "fig, ax = plt.subplots(nrows=1, ncols=1)\n",
    "ax.plot(history_log.history[\"loss\"], color='grey', linewidth=1, alpha=0.4)\n",
    "ax.plot(history_log.history[\"val_loss\"], color=\"orange\", linewidth=3)\n",
    "ax.set_title(\"Training history_log\")\n",
    "ax.set_xlabel(\"Epoch\")\n",
    "ax.set_ylabel(\"Loss\")\n",
    "ax.legend([\"Train\", \"Valdiation\"])\n",
    "\n",
    "plt.show()"
   ]
  },
  {
   "cell_type": "markdown",
   "metadata": {
    "ein.tags": "worksheet-0",
    "slideshow": {
     "slide_type": "-"
    }
   },
   "source": [
    "<font color=red size=\"1.4\"><a href=\"./material_buildingNN_notebook_EXAMPLE.ipynb\"><b>Click here to see a full worflow</b></a></font>"
   ]
  }
 ],
 "metadata": {
  "kernelspec": {
   "display_name": "Python 3",
   "language": "python",
   "name": "python3"
  },
  "language_info": {
   "codemirror_mode": {
    "name": "ipython",
    "version": 3
   },
   "file_extension": ".py",
   "mimetype": "text/x-python",
   "name": "python",
   "nbconvert_exporter": "python",
   "pygments_lexer": "ipython3",
   "version": "3.7.7"
  },
  "name": "material_buildingNN_notebook.ipynb"
 },
 "nbformat": 4,
 "nbformat_minor": 2
}
